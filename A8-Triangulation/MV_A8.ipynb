{
 "cells": [
  {
   "attachments": {},
   "cell_type": "markdown",
   "metadata": {},
   "source": [
    "# Machine Vision<br>Assignment 8 - Triangulation\n",
    "\n",
    "## Personal details\n",
    "\n",
    "* **Name(s):** `XX`\n",
    "* **Student ID(s):** `XX`\n",
    "\n",
    "## 1. Introduction\n",
    "\n",
    "In this assignment we will use a pair of stereo images to triangulate points in 3D. Let us first display the test images and 2D point correspondences. We also load the 3D points mainly for testing purposes. The data is from __http://www.robots.ox.ac.uk/~vgg/data/mview__."
   ]
  },
  {
   "cell_type": "code",
   "execution_count": null,
   "metadata": {},
   "outputs": [],
   "source": [
    "import cv2\n",
    "import numpy as np\n",
    "import matplotlib.pyplot as plt\n",
    "from mpl_toolkits.mplot3d import Axes3D\n",
    "%matplotlib inline\n",
    "\n",
    "# Load image pair and convert to RGB\n",
    "left = cv2.imread('left.jpg')\n",
    "right = cv2.imread('right.jpg')\n",
    "left = cv2.cvtColor(left,cv2.COLOR_BGR2RGB)\n",
    "right = cv2.cvtColor(right,cv2.COLOR_BGR2RGB)\n",
    "\n",
    "# Load 2D points (2xN matrices)\n",
    "pts1 = np.load('pts1.npy')\n",
    "pts2 = np.load('pts2.npy')\n",
    "\n",
    "# Load 3D points (3xN matrix)\n",
    "pts3D = np.load('pts3D.npy')\n",
    "\n",
    "# Display 2D point correspondences\n",
    "plt.figure(figsize=(14,8))\n",
    "plt.subplot(121)\n",
    "plt.imshow(left)\n",
    "plt.plot(pts1[0,:],pts1[1,:], '.r')\n",
    "plt.title('Left image')\n",
    "plt.axis('off')\n",
    "plt.subplot(122)\n",
    "plt.imshow(right)\n",
    "plt.plot(pts2[0,:],pts2[1,:], '.r')\n",
    "plt.title('Right image')\n",
    "plt.axis('off')\n"
   ]
  },
  {
   "cell_type": "markdown",
   "metadata": {},
   "source": [
    "The camera projection matrices $\\mathbf{C}$ and $\\mathbf{C}'$ are also provided for both views."
   ]
  },
  {
   "cell_type": "code",
   "execution_count": null,
   "metadata": {},
   "outputs": [],
   "source": [
    "# Load 3x4 camera projection matrices\n",
    "C1 = np.load('C1.npy')\n",
    "C2 = np.load('C2.npy')"
   ]
  },
  {
   "cell_type": "markdown",
   "metadata": {},
   "source": [
    "## 2. From 3D points to 2D points\n",
    "\n",
    "With the camera matrix $\\mathbf{C} = \\mathbf{K}[\\mathbf{R} | \\mathbf{t}]$ we can project 3D points to 2D points on the image plane:\n",
    "\n",
    "$$\n",
    "s \\begin{pmatrix}u \\\\ v \\\\ 1 \\end{pmatrix} = \\mathbf{C} \\begin{pmatrix} X \\\\ Y \\\\ Z \\\\ 1 \\end{pmatrix} \\qquad \\qquad (1)\n",
    "$$\n",
    "\n",
    "Note that we are using homogeneous coordinates.\n",
    "\n",
    "**2.1. Project 3D points** $\\quad$ <font color=red>(0.50 points)</font>\n",
    "\n",
    "Complete the function `projectPts()` by following the instructions below. The function should project 3D points `pts3D` to 2D image points `pts2D`. The result should look like the previous figure.\n"
   ]
  },
  {
   "cell_type": "code",
   "execution_count": null,
   "metadata": {
    "deletable": false,
    "nbgrader": {
     "cell_type": "code",
     "checksum": "0781eac68923d0f607d4810354f3dbe3",
     "grade": false,
     "grade_id": "project_3d",
     "locked": false,
     "schema_version": 3,
     "solution": true,
     "task": false
    }
   },
   "outputs": [],
   "source": [
    "# INPUT   \n",
    "# pts3D : 3D points (X,Y,Z) (3xN matrix)\n",
    "# C     : Camera projection matrix (3x4 matrix)\n",
    "#\n",
    "# OUTPUT  \n",
    "# pts2D : 2D points (x,y) (2xN matrix)\n",
    "#\n",
    "def projectPts(pts3D,C):\n",
    "    \n",
    "    N = pts3D.shape[1] # Number of points\n",
    "    \n",
    "    # ---------- YOUR CODE STARTS HERE -----------\n",
    "    \n",
    "    # This line can be removed\n",
    "    pts2D = np.zeros((2,N), dtype=np.float_)\n",
    "    \n",
    "    # 1. Convert 3D points from Euclidean to \n",
    "    #    homogeneous coordinates (4xN matrix)\n",
    "    hg = np.append(pts3D, [np.ones(N)], axis=0)\n",
    "\n",
    "    # 2. Project points using Equation 1\n",
    "    p = C @ hg\n",
    "\n",
    "    # 3. Covert 2D points from homogeneous to \n",
    "    #    Euclidean coordinates (2xN matrix)\n",
    "    p[0:2] = np.divide(p[0:2], p[2])\n",
    "    p[2] = 1\n",
    "\n",
    "    pts2D = np.array([p[0], p[1]])\n",
    "    \n",
    "    # ----------- YOUR CODE ENDS HERE ------------\n",
    "\n",
    "    return pts2D\n",
    "\n",
    "\n",
    "# Project 3D points and visualize the result\n",
    "points1 = projectPts(pts3D,C1)\n",
    "points2 = projectPts(pts3D,C2)\n",
    "\n",
    "plt.figure(figsize=(14,8))\n",
    "plt.subplot(121)\n",
    "plt.imshow(left)\n",
    "plt.plot(points1[0,:],points1[1,:], '.r')\n",
    "plt.title('Left image')\n",
    "plt.axis('off')\n",
    "plt.subplot(122)\n",
    "plt.imshow(right)\n",
    "plt.plot(points2[0,:],points2[1,:], '.r')\n",
    "plt.title('Right image')\n",
    "plt.axis('off')"
   ]
  },
  {
   "cell_type": "code",
   "execution_count": null,
   "metadata": {
    "deletable": false,
    "editable": false,
    "nbgrader": {
     "cell_type": "code",
     "checksum": "d8dbc49734e513c7f795b5df8fd783fd",
     "grade": true,
     "grade_id": "correct-project_3d",
     "locked": true,
     "points": 0.5,
     "schema_version": 3,
     "solution": false,
     "task": false
    }
   },
   "outputs": [],
   "source": [
    "# LEAVE EMPTY"
   ]
  },
  {
   "cell_type": "markdown",
   "metadata": {},
   "source": [
    "## 3. From 2D points to 3D points\n",
    "\n",
    "The lecture notes describe a linear method to triangulate a point observed in two cameras (Chapter 11).\n",
    "Given a point $\\mathbf{X} = (X,Y,Z)^{\\top}$ the projection equations are:\n",
    "\n",
    "$$\n",
    "\\begin{pmatrix}\n",
    "s u \\\\ \n",
    "s v \\\\\n",
    "s \\end{pmatrix} = \n",
    "\\begin{pmatrix}\n",
    "c_{11} & c_{12} & c_{13} & c_{14} \\\\ \n",
    "c_{21} & c_{22} & c_{23} & c_{24} \\\\\n",
    "c_{31} & c_{32} & c_{33} & c_{34} \\end{pmatrix}\n",
    "\\begin{pmatrix}\n",
    "X \\\\ \n",
    "Y \\\\\n",
    "Z \\\\\n",
    "1 \\end{pmatrix}\n",
    "$$\n",
    "\n",
    "$$\n",
    "\\begin{pmatrix}\n",
    "t u' \\\\ \n",
    "t v' \\\\\n",
    "t \\end{pmatrix} = \n",
    "\\begin{pmatrix}\n",
    "c_{11}' & c_{12}' & c_{13}' & c_{14}' \\\\ \n",
    "c_{21}' & c_{22}' & c_{23}' & c_{24}' \\\\\n",
    "c_{31}' & c_{32}' & c_{33}' & c_{34}' \\end{pmatrix}\n",
    "\\begin{pmatrix}\n",
    "X \\\\ \n",
    "Y \\\\\n",
    "Z \\\\\n",
    "1 \\end{pmatrix}\n",
    "$$\n",
    "\n",
    "Here we have used the same notation as in the exercises. Eliminating $s$ and $t$ we obtain the system of equations:\n",
    "\n",
    "$$\n",
    "(c_{31} u - c_{11}) X + (c_{32} u - c_{12}) Y + (c_{33} u - c_{13}) Z = c_{14} - c_{34} u \\\\\n",
    "(c_{31} v - c_{21}) X + (c_{32} v - c_{22}) Y + (c_{33} v - c_{23}) Z = c_{24} - c_{34} v \\\\\n",
    "(c_{31}' u' - c_{11}') X + (c_{32}' u' - c_{12}') Y + (c_{33}' u' - c_{13}') Z = c_{14}' - c_{34}' u' \\\\\n",
    "(c_{31}' v' - c_{21}') X + (c_{32}' v' - c_{22}') Y + (c_{33}' v' - c_{23}') Z = c_{24}' - c_{34}' v'\n",
    "$$\n",
    "\n",
    "which can be expressed in a linear system of the form: $\\mathbf{Ax} = \\mathbf{b}$ and solved using the least squares method. *See the Exercise 8 (Q2)*. <br>Notice also that equations are different from the ones presented in the lecture slides."
   ]
  },
  {
   "cell_type": "markdown",
   "metadata": {},
   "source": [
    "**3.1. Triangulate** $\\quad$ <font color=red>(1.50 points)</font>\n",
    "\n",
    "Complete the function `triangulatePts()`. Estimate 3D points given 2D points `pts1` and `pts2` and projection matrices `C1` and `C2`. For each point, form a linear system $\\mathbf{Ax} = \\mathbf{b}$, where $\\mathbf{A}$ is a $4 \\times 3$ matrix and $\\mathbf{b}$ is a $4 \\times 1$ vector. The least-squares solution can be obtained by $\\hat{\\mathbf{x}} = (\\mathbf{A}^{\\top} \\mathbf{A})^{-1} \\mathbf{A}^{\\top} \\mathbf{b}$, where $\\hat{\\mathbf{x}}$ contains the coordinates of the 3D point $(X,Y,Z)$. Once you have completed the function, execute the following code cell. The implementation is correct if the estimated 3D points `points3D` overlap with the given 3D points `pts3D`."
   ]
  },
  {
   "cell_type": "code",
   "execution_count": null,
   "metadata": {
    "deletable": false,
    "nbgrader": {
     "cell_type": "code",
     "checksum": "96f40f2b552fc72c389533149015ba6f",
     "grade": false,
     "grade_id": "triangulate",
     "locked": false,
     "schema_version": 3,
     "solution": true,
     "task": false
    }
   },
   "outputs": [],
   "source": [
    "# INPUT   \n",
    "# pts1 : 2D points from the first image (2xN matrix)\n",
    "# pts2 : 2D points from the second image (2xN matrix)\n",
    "# C1   : Camera matrix for the first image (3x4 matrix)\n",
    "# C2   : Camera matrix for the second image (3x4 matrix)\n",
    "#\n",
    "# OUTPUT  \n",
    "# pts3D : Triangulated 3D points (X,Y,Z) (3xN matrix)\n",
    "#\n",
    "def triangulatePts(pts1,pts2,C1,C2):\n",
    "    \n",
    "    N = pts1.shape[1] # Number of points\n",
    "    pts3D = np.zeros((3,N),dtype=np.float_)\n",
    "    \n",
    "    # ---------- YOUR CODE STARTS HERE -----------\n",
    "    \n",
    "    for i in range(N):\n",
    "        \n",
    "        # 1. For each point i, form A and b\n",
    "        A = np.zeros((4, 3), dtype=np.float_)\n",
    "        b = np.zeros((4, 1), dtype=np.float_)\n",
    "        \n",
    "        x1, y1 = pts1[:, i]\n",
    "        x2, y2 = pts2[:, i]\n",
    "        \n",
    "        A[0, :] = x1 * C1[2, :3] - C1[0, :3]\n",
    "        A[1, :] = y1 * C1[2, :3] - C1[1, :3]\n",
    "        A[2, :] = x2 * C2[2, :3] - C2[0, :3]\n",
    "        A[3, :] = y2 * C2[2, :3] - C2[1, :3]\n",
    "        \n",
    "        b[0, 0] = - (x1 * C1[2, 3] - C1[0, 3])\n",
    "        b[1, 0] = - (y1 * C1[2, 3] - C1[1, 3])\n",
    "        b[2, 0] = - (x2 * C2[2, 3] - C2[0, 3])\n",
    "        b[3, 0] = - (y2 * C2[2, 3] - C2[1, 3])\n",
    "        \n",
    "        # 2. Find solution to linear system Ax=b\n",
    "        X, _, _, _ = np.linalg.lstsq(A, b, rcond=None)\n",
    "        \n",
    "        # 3. Save the triangulated point to pts3D[:,i]\n",
    "        pts3D[:, i] = X.ravel()\n",
    "    \n",
    "    # ----------- YOUR CODE ENDS HERE ------------\n",
    "\n",
    "    return pts3D\n",
    "\n",
    "\n",
    "# Triangulate points and compare to given 3D points\n",
    "points3D = triangulatePts(pts1,pts2,C1,C2)\n",
    "\n",
    "fig = plt.figure(figsize=(12,12))\n",
    "ax = fig.add_subplot(111, projection='3d')\n",
    "ax.scatter(-pts3D[1,:],pts3D[2,:],-pts3D[0,:], \n",
    "           color='blue', label='Given 3D points')\n",
    "ax.scatter(-points3D[1,:],points3D[2,:],-points3D[0,:], \n",
    "           color='red', label='Estimated 3D points')\n",
    "ax.set_xlabel('Y')\n",
    "ax.set_ylabel('Z')\n",
    "ax.set_zlabel('X')\n",
    "ax.set_title('Comparison of 3D points')\n",
    "ax.legend()\n"
   ]
  },
  {
   "cell_type": "code",
   "execution_count": null,
   "metadata": {
    "deletable": false,
    "editable": false,
    "nbgrader": {
     "cell_type": "code",
     "checksum": "c8728890938984b94195507eedc54140",
     "grade": true,
     "grade_id": "correct-triangulate",
     "locked": true,
     "points": 1.5,
     "schema_version": 3,
     "solution": false,
     "task": false
    }
   },
   "outputs": [],
   "source": [
    "# LEAVE EMPTY"
   ]
  },
  {
   "cell_type": "markdown",
   "metadata": {},
   "source": [
    "# Aftermath\n",
    "Finally, fill your answers to the following questions:"
   ]
  },
  {
   "attachments": {},
   "cell_type": "markdown",
   "metadata": {},
   "source": [
    "**How much time did you need to complete this exercise?**\n",
    "\n",
    "`3.5 hours`"
   ]
  },
  {
   "attachments": {},
   "cell_type": "markdown",
   "metadata": {},
   "source": [
    "**Did you experience any problems with the exercise? Was there enough help available? Should this notebook be more (or less) detailed?**\n",
    "\n",
    "`The construction of A and b for the second task was very confusing`"
   ]
  },
  {
   "cell_type": "markdown",
   "metadata": {},
   "source": [
    "# References\n",
    "`LIST YOUR POSSIBLE REFERENCES HERE!`"
   ]
  },
  {
   "cell_type": "markdown",
   "metadata": {
    "collapsed": true
   },
   "source": [
    "# Submission\n",
    "\n",
    "1. Click on the menu `Kernel -> Restart & Clear Output` to clear all outputs and variables, etc.\n",
    "2. Compress the resulting Jupyter notebook (`MV_A8.ipynb` file) into **`MV_A8_[student number(s)].zip`** (e.g. `MV_A8_1234567.zip` if solo work or `MV_A8_1234567-7654321.zip` if pair work). Please only include .ipynb file (no other files or folders).\n",
    "3. Upload the .zip file to Moodle. The return box can be found in the assignments section.\n",
    "\n",
    "**Deadline of the assignment 9.3.2023**"
   ]
  }
 ],
 "metadata": {
  "kernelspec": {
   "display_name": "Python 3 (ipykernel)",
   "language": "python",
   "name": "python3"
  },
  "language_info": {
   "codemirror_mode": {
    "name": "ipython",
    "version": 3
   },
   "file_extension": ".py",
   "mimetype": "text/x-python",
   "name": "python",
   "nbconvert_exporter": "python",
   "pygments_lexer": "ipython3",
   "version": "3.11.2"
  }
 },
 "nbformat": 4,
 "nbformat_minor": 2
}
